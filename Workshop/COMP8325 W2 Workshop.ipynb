{
 "cells": [
  {
   "cell_type": "markdown",
   "metadata": {},
   "source": [
    "# Supervised Learning: Regression Modeling"
   ]
  },
  {
   "cell_type": "markdown",
   "metadata": {},
   "source": [
    "In this week's workshop, we will learn about `supervised machine learning` wherein an annotated data having input-output pair is given to us to train machine learning model. The trained model then can be used to make predictions on `unsee` data (or test set). We aim to work on the following tasks:\n",
    "- Ordinary linear regression model on one-dimensional feature/variable\n",
    "- Ordinary linear regression model on multi-dimensional features/variables\n",
    "- Ridge regression and hyper-parameter tuning"
   ]
  },
  {
   "cell_type": "markdown",
   "metadata": {},
   "source": [
    "### Dataset Description"
   ]
  },
  {
   "cell_type": "markdown",
   "metadata": {},
   "source": [
    "In the `data` directory, we are given `houses_portland.csv` file which contains columns for `area of a house`, `number of bedrooms in a house`, and `price`. The goal is to build model which can predict `price of a house` given `number of bedrooms` and `area`. First we will load dataset and find relationship between variables."
   ]
  },
  {
   "cell_type": "code",
   "execution_count": 1,
   "metadata": {},
   "outputs": [],
   "source": [
    "#import commonly-used modules\n",
    "\n",
    "import pandas as pd\n",
    "import numpy as np\n",
    "import matplotlib.pyplot as plt\n",
    "%matplotlib inline"
   ]
  },
  {
   "cell_type": "code",
   "execution_count": 2,
   "metadata": {},
   "outputs": [
    {
     "name": "stdout",
     "output_type": "stream",
     "text": [
      "data size: (47, 3)\n"
     ]
    },
    {
     "data": {
      "text/html": [
       "<div>\n",
       "<style scoped>\n",
       "    .dataframe tbody tr th:only-of-type {\n",
       "        vertical-align: middle;\n",
       "    }\n",
       "\n",
       "    .dataframe tbody tr th {\n",
       "        vertical-align: top;\n",
       "    }\n",
       "\n",
       "    .dataframe thead th {\n",
       "        text-align: right;\n",
       "    }\n",
       "</style>\n",
       "<table border=\"1\" class=\"dataframe\">\n",
       "  <thead>\n",
       "    <tr style=\"text-align: right;\">\n",
       "      <th></th>\n",
       "      <th>area</th>\n",
       "      <th>bedroom</th>\n",
       "      <th>price</th>\n",
       "    </tr>\n",
       "  </thead>\n",
       "  <tbody>\n",
       "    <tr>\n",
       "      <th>0</th>\n",
       "      <td>2104</td>\n",
       "      <td>3</td>\n",
       "      <td>399900</td>\n",
       "    </tr>\n",
       "    <tr>\n",
       "      <th>1</th>\n",
       "      <td>1600</td>\n",
       "      <td>3</td>\n",
       "      <td>329900</td>\n",
       "    </tr>\n",
       "    <tr>\n",
       "      <th>2</th>\n",
       "      <td>2400</td>\n",
       "      <td>3</td>\n",
       "      <td>369000</td>\n",
       "    </tr>\n",
       "    <tr>\n",
       "      <th>3</th>\n",
       "      <td>1416</td>\n",
       "      <td>2</td>\n",
       "      <td>232000</td>\n",
       "    </tr>\n",
       "    <tr>\n",
       "      <th>4</th>\n",
       "      <td>3000</td>\n",
       "      <td>4</td>\n",
       "      <td>539900</td>\n",
       "    </tr>\n",
       "  </tbody>\n",
       "</table>\n",
       "</div>"
      ],
      "text/plain": [
       "   area  bedroom   price\n",
       "0  2104        3  399900\n",
       "1  1600        3  329900\n",
       "2  2400        3  369000\n",
       "3  1416        2  232000\n",
       "4  3000        4  539900"
      ]
     },
     "execution_count": 2,
     "metadata": {},
     "output_type": "execute_result"
    }
   ],
   "source": [
    "#load the dataset\n",
    "\n",
    "data = pd.read_csv(\"houses_portland.csv\")\n",
    "\n",
    "print(\"data size: \" + str(data.shape))\n",
    "data.head() #print first 5 rows"
   ]
  },
  {
   "cell_type": "markdown",
   "metadata": {},
   "source": [
    "## Task 1: Ordinary linear regression model on one-dimensional feature/variable"
   ]
  },
  {
   "cell_type": "code",
   "execution_count": 3,
   "metadata": {},
   "outputs": [
    {
     "data": {
      "image/png": "[encoded data removed]",
      "text/plain": [
       "<Figure size 432x288 with 1 Axes>"
      ]
     },
     "metadata": {
      "needs_background": "light"
     },
     "output_type": "display_data"
    }
   ],
   "source": [
    "#visually explore the relationship between \"area\" and \"price\"\n",
    "\n",
    "X = data['area'].values\n",
    "y = data['price'].values\n",
    "\n",
    "plt.scatter(X, y)\n",
    "plt.xlabel('Area')\n",
    "plt.ylabel('Price')\n",
    "plt.show()"
   ]
  },
  {
   "cell_type": "markdown",
   "metadata": {},
   "source": [
    "### Split data into `train` and `test` using [train_test_split](https://scikit-learn.org/stable/modules/generated/sklearn.model_selection.train_test_split.html) method from sklearn library."
   ]
  },
  {
   "cell_type": "code",
   "execution_count": 4,
   "metadata": {},
   "outputs": [
    {
     "name": "stdout",
     "output_type": "stream",
     "text": [
      "Training data feature shape: (37, 1)\n",
      "Training data label shape: (37,)\n",
      "Test data feature space shape: (10, 1)\n",
      "Test data label shape: (10,)\n"
     ]
    }
   ],
   "source": [
    "#split data\n",
    "\n",
    "from sklearn import model_selection as ms\n",
    "\n",
    "X_train, X_test, y_train, y_test = ms.train_test_split(X, y, test_size = 0.2) #20% test data 80% train data\n",
    "\n",
    "X_train = np.reshape(X_train, (-1, 1)) #change from 1D array to 2D array, why use 2D?\n",
    "X_test = np.reshape(X_test, (-1, 1))\n",
    "\n",
    "print(\"Training data feature shape:\", X_train.shape)\n",
    "print(\"Training data label shape:\", y_train.shape)\n",
    "print(\"Test data feature space shape:\", X_test.shape)\n",
    "print(\"Test data label shape:\", y_test.shape)"
   ]
  },
  {
   "cell_type": "markdown",
   "metadata": {},
   "source": [
    "Looking at the shape of train and test sets, we can say that out of total 47 samples, 37 samples are in training and the remaining 10 samples are in test. Look at the documentation of `train_test_split` function to find out whether data is shuffled or not during the split operation."
   ]
  },
  {
   "cell_type": "markdown",
   "metadata": {},
   "source": [
    "### Model Development (or model training)"
   ]
  },
  {
   "cell_type": "code",
   "execution_count": 5,
   "metadata": {},
   "outputs": [
    {
     "data": {
      "text/plain": [
       "LinearRegression()"
      ]
     },
     "execution_count": 5,
     "metadata": {},
     "output_type": "execute_result"
    }
   ],
   "source": [
    "#build linear regression model\n",
    "\n",
    "from sklearn import linear_model as lm\n",
    "\n",
    "ordinaryLRmodel = lm.LinearRegression()\n",
    "ordinaryLRmodel.fit(X_train, y_train) #to train model"
   ]
  },
  {
   "cell_type": "code",
   "execution_count": 6,
   "metadata": {},
   "outputs": [
    {
     "name": "stdout",
     "output_type": "stream",
     "text": [
      "Coefficient: [136.78498746]\n",
      "Intercept: 59307.82910765242\n"
     ]
    }
   ],
   "source": [
    "#print coefficient and intercept\n",
    "\n",
    "print(\"Coefficient:\", ordinaryLRmodel.coef_)\n",
    "print(\"Intercept:\", ordinaryLRmodel.intercept_)"
   ]
  },
  {
   "cell_type": "markdown",
   "metadata": {},
   "source": [
    "What is an Intercept? How you define coefficient? Can you comment on the importance of coefficient and intercept? What does these numbers signify in terms of price of a house?"
   ]
  },
  {
   "cell_type": "raw",
   "metadata": {},
   "source": [
    "Intercept = the mean response value when all predictor variables are set to zero (the y-intercept)\n",
    "\n",
    "Coefficient = tells how much the dependent variable (price) is expected to increase when that independent variable (area) increases by one unit (the slope)"
   ]
  },
  {
   "cell_type": "markdown",
   "metadata": {},
   "source": [
    "### Plotting regression line"
   ]
  },
  {
   "cell_type": "code",
   "execution_count": 7,
   "metadata": {},
   "outputs": [
    {
     "data": {
      "image/png": "[encoded data removed]",
      "text/plain": [
       "<Figure size 432x288 with 1 Axes>"
      ]
     },
     "metadata": {
      "needs_background": "light"
     },
     "output_type": "display_data"
    }
   ],
   "source": [
    "#plot the model\n",
    "\n",
    "x_line=[X.min(), X.max()]\n",
    "y_line=[ordinaryLRmodel.intercept_ + ordinaryLRmodel.coef_ * X.min(), ordinaryLRmodel.intercept_ + ordinaryLRmodel.coef_ * X.max()]\n",
    "\n",
    "plt.plot(x_line, y_line, 'r', lw = 2)\n",
    "plt.scatter(X_train, y_train)\n",
    "plt.scatter(X_test, y_test)\n",
    "plt.xlabel('Area')\n",
    "plt.ylabel('Price')\n",
    "plt.show()\n",
    "\n",
    "#37 = blue = train data\n",
    "#10 = orange = test data"
   ]
  },
  {
   "cell_type": "markdown",
   "metadata": {},
   "source": [
    "### Model Evaluation (on test set)"
   ]
  },
  {
   "cell_type": "code",
   "execution_count": 8,
   "metadata": {},
   "outputs": [
    {
     "data": {
      "text/plain": [
       "array([286918.04824732, 469662.79149887, 223860.16902653, 232751.19321168,\n",
       "       278163.80904964, 324670.70478731, 410434.89192707, 258740.34082979,\n",
       "       312633.6258905 , 488402.33478141])"
      ]
     },
     "execution_count": 8,
     "metadata": {},
     "output_type": "execute_result"
    }
   ],
   "source": [
    "#prediction/testing\n",
    "\n",
    "y_pred = ordinaryLRmodel.predict(X_test)\n",
    "y_pred"
   ]
  },
  {
   "cell_type": "code",
   "execution_count": 9,
   "metadata": {},
   "outputs": [
    {
     "name": "stdout",
     "output_type": "stream",
     "text": [
      "Mean squared error: 8258716707.00\n",
      "Coefficient of determination: 0.40\n"
     ]
    }
   ],
   "source": [
    "#performance metrics\n",
    "from sklearn.metrics import mean_squared_error, r2_score\n",
    "\n",
    "#the mean squared error\n",
    "print('Mean squared error: %.2f' %mean_squared_error(y_test, y_pred))\n",
    "\n",
    "#the coefficient of determination: 1 is perfect prediction\n",
    "print('Coefficient of determination: %.2f' %r2_score(y_test, y_pred))"
   ]
  },
  {
   "cell_type": "raw",
   "metadata": {},
   "source": [
    "Comment on the model performance in terms of evaluation metrics? "
   ]
  },
  {
   "cell_type": "markdown",
   "metadata": {},
   "source": [
    "## Task 2: Ordinary linear regression model on multi-dimensional features/variables"
   ]
  },
  {
   "cell_type": "code",
   "execution_count": 10,
   "metadata": {},
   "outputs": [
    {
     "name": "stdout",
     "output_type": "stream",
     "text": [
      "(47, 2)\n",
      "(47,)\n"
     ]
    }
   ],
   "source": [
    "#data preparation\n",
    "\n",
    "X = data[['area', 'bedroom']].values\n",
    "y = data['price'].values\n",
    "\n",
    "print(X.shape) #(47,2)\n",
    "print(y.shape) #(47,1)"
   ]
  },
  {
   "cell_type": "markdown",
   "metadata": {},
   "source": [
    "### Split data into training and testing sets"
   ]
  },
  {
   "cell_type": "code",
   "execution_count": 11,
   "metadata": {},
   "outputs": [
    {
     "name": "stdout",
     "output_type": "stream",
     "text": [
      "Training data feature shape: (37, 2)\n",
      "Training data label shape: (37,)\n",
      "Test data feature space shape: (10, 2)\n",
      "Test data label shape: (10,)\n"
     ]
    }
   ],
   "source": [
    "#split data\n",
    "\n",
    "from sklearn import model_selection as ms\n",
    "\n",
    "X_train, X_test, y_train, y_test = ms.train_test_split(X, y, test_size = 0.2, random_state = 142) #set random_state to get same output\n",
    "print(\"Training data feature shape:\", X_train.shape)\n",
    "print(\"Training data label shape:\", y_train.shape)\n",
    "print(\"Test data feature space shape:\", X_test.shape)\n",
    "print(\"Test data label shape:\", y_test.shape)"
   ]
  },
  {
   "cell_type": "markdown",
   "metadata": {},
   "source": [
    "### Build linear regression model"
   ]
  },
  {
   "cell_type": "code",
   "execution_count": 18,
   "metadata": {},
   "outputs": [
    {
     "data": {
      "text/plain": [
       "LinearRegression()"
      ]
     },
     "execution_count": 18,
     "metadata": {},
     "output_type": "execute_result"
    }
   ],
   "source": [
    "#build linear regression model\n",
    "\n",
    "from sklearn import linear_model as lm\n",
    "\n",
    "model2 = lm.LinearRegression()\n",
    "model2.fit(X_train, y_train) #to train model"
   ]
  },
  {
   "cell_type": "markdown",
   "metadata": {},
   "source": [
    "### Check model coefficients and comment"
   ]
  },
  {
   "cell_type": "code",
   "execution_count": 19,
   "metadata": {},
   "outputs": [
    {
     "name": "stdout",
     "output_type": "stream",
     "text": [
      "Coefficient: [141.80327823 123.16809456]\n",
      "Intercept: 63175.63367314078\n"
     ]
    }
   ],
   "source": [
    "#print the coefficients\n",
    "\n",
    "print(\"Coefficient:\", model2.coef_)\n",
    "print(\"Intercept:\", model2.intercept_) "
   ]
  },
  {
   "cell_type": "markdown",
   "metadata": {},
   "source": [
    "### Do model predictions on test set"
   ]
  },
  {
   "cell_type": "code",
   "execution_count": 20,
   "metadata": {},
   "outputs": [
    {
     "data": {
      "text/plain": [
       "array([265898.41598452, 338766.66580873, 243351.69474667, 370246.99357478,\n",
       "       264215.41182948, 239239.39967814, 238813.98984346, 661369.12377161,\n",
       "       281071.36675464, 299382.62482939])"
      ]
     },
     "execution_count": 20,
     "metadata": {},
     "output_type": "execute_result"
    }
   ],
   "source": [
    "#prediction/testing\n",
    "\n",
    "y_pred = model2.predict(X_test)\n",
    "y_pred"
   ]
  },
  {
   "cell_type": "markdown",
   "metadata": {},
   "source": [
    "### Get model scores in terms of MSE and r^2 scores"
   ]
  },
  {
   "cell_type": "code",
   "execution_count": 16,
   "metadata": {},
   "outputs": [
    {
     "name": "stdout",
     "output_type": "stream",
     "text": [
      "Mean squared error (MSE): 4262225572.05\n",
      "Coefficient of determination (R2 score): 0.58\n"
     ]
    }
   ],
   "source": [
    "#performance metrics\n",
    "from sklearn.metrics import mean_squared_error, r2_score\n",
    "\n",
    "#the mean squared error\n",
    "print('Mean squared error (MSE): %.2f' %mean_squared_error(y_test, y_pred))\n",
    "\n",
    "#the coefficient of determination: 1 is perfect prediction\n",
    "print('Coefficient of determination (R2 score): %.2f' %r2_score(y_test, y_pred))"
   ]
  },
  {
   "cell_type": "markdown",
   "metadata": {},
   "source": [
    "## Task 3: Ridge regression and hyperparameter tuning"
   ]
  },
  {
   "cell_type": "code",
   "execution_count": 21,
   "metadata": {},
   "outputs": [],
   "source": [
    "# Data preparation\n",
    "X = data[['area', 'bedroom']].values\n",
    "y = data['price'].values\n",
    "\n",
    "#data standardization\n",
    "from sklearn.preprocessing import StandardScaler\n",
    "ss = StandardScaler(with_mean=True, with_std=True)\n",
    "ss.fit(X.astype(np.float))\n",
    "X = ss.transform(X.astype(np.float))\n",
    "\n",
    "y = np.reshape(y, (-1, 1))  \n",
    "ss.fit(y.astype(np.float))\n",
    "y = ss.transform(y.astype(np.float))"
   ]
  },
  {
   "cell_type": "markdown",
   "metadata": {},
   "source": [
    "### Split data into training and test sets"
   ]
  },
  {
   "cell_type": "code",
   "execution_count": 22,
   "metadata": {},
   "outputs": [
    {
     "name": "stdout",
     "output_type": "stream",
     "text": [
      "Training data feature shape: (37, 2)\n",
      "Training data label shape: (37, 1)\n",
      "Test data feature space shape: (10, 2)\n",
      "Test data label shape: (10, 1)\n"
     ]
    }
   ],
   "source": [
    "#split data\n",
    "\n",
    "from sklearn import model_selection as ms\n",
    "\n",
    "X_train, X_test, y_train, y_test = ms.train_test_split(X, y, test_size = 0.2)\n",
    "print(\"Training data feature shape:\", X_train.shape)\n",
    "print(\"Training data label shape:\", y_train.shape)\n",
    "print(\"Test data feature space shape:\", X_test.shape)\n",
    "print(\"Test data label shape:\", y_test.shape)"
   ]
  },
  {
   "cell_type": "markdown",
   "metadata": {},
   "source": [
    "### Build linear regression model"
   ]
  },
  {
   "cell_type": "code",
   "execution_count": 23,
   "metadata": {},
   "outputs": [
    {
     "data": {
      "text/plain": [
       "LinearRegression()"
      ]
     },
     "execution_count": 23,
     "metadata": {},
     "output_type": "execute_result"
    }
   ],
   "source": [
    "#build linear regression model\n",
    "\n",
    "from sklearn import linear_model as lm\n",
    "\n",
    "model3 = lm.LinearRegression()\n",
    "model3.fit(X_train, y_train) #to train model"
   ]
  },
  {
   "cell_type": "markdown",
   "metadata": {},
   "source": [
    "### Check model coefficients"
   ]
  },
  {
   "cell_type": "code",
   "execution_count": 24,
   "metadata": {},
   "outputs": [
    {
     "name": "stdout",
     "output_type": "stream",
     "text": [
      "Coefficient: [[ 0.91153468 -0.10922288]]\n",
      "Intercept: [0.0075175]\n"
     ]
    }
   ],
   "source": [
    "#print the coefficients\n",
    "\n",
    "print(\"Coefficient:\", model3.coef_)\n",
    "print(\"Intercept:\", model3.intercept_) "
   ]
  },
  {
   "cell_type": "markdown",
   "metadata": {},
   "source": [
    "### Do model predictions on test set"
   ]
  },
  {
   "cell_type": "code",
   "execution_count": 25,
   "metadata": {},
   "outputs": [
    {
     "data": {
      "text/plain": [
       "array([63015.63634857, 63105.63838386, 63190.59020474, 63284.57339137,\n",
       "       63009.86467497, 62985.33506214, 63003.91263656, 63075.51746223,\n",
       "       62963.85852518, 63421.1095451 ])"
      ]
     },
     "execution_count": 25,
     "metadata": {},
     "output_type": "execute_result"
    }
   ],
   "source": [
    "#prediction/testing\n",
    "\n",
    "y_pred = model2.predict(X_test)\n",
    "y_pred"
   ]
  },
  {
   "cell_type": "markdown",
   "metadata": {},
   "source": [
    "### Get model scores in terms of MSE and r^2 scores"
   ]
  },
  {
   "cell_type": "code",
   "execution_count": 26,
   "metadata": {},
   "outputs": [
    {
     "name": "stdout",
     "output_type": "stream",
     "text": [
      "Mean squared error (MSE): 3982386960.37\n",
      "Coefficient of determination (R2 score): -9652038403.56\n"
     ]
    }
   ],
   "source": [
    "#performance metrics\n",
    "from sklearn.metrics import mean_squared_error, r2_score\n",
    "\n",
    "#the mean squared error\n",
    "print('Mean squared error (MSE): %.2f' %mean_squared_error(y_test, y_pred))\n",
    "\n",
    "#the coefficient of determination: 1 is perfect prediction\n",
    "print('Coefficient of determination (R2 score): %.2f' %r2_score(y_test, y_pred))"
   ]
  },
  {
   "cell_type": "markdown",
   "metadata": {},
   "source": [
    "### Model hyper-parameter tuning"
   ]
  },
  {
   "cell_type": "markdown",
   "metadata": {},
   "source": [
    "When you check the documentation of `ridge regression` on sklearn API [Ridge Regression](https://scikit-learn.org/stable/modules/generated/sklearn.linear_model.Ridge.html), you will find `alpha` as one of the parameter that is a `regularisation` term. Regularization improves the conditioning of the problem and reduces the variance of the estimates. Larger values specify stronger regularization.\n",
    "\n",
    "Your task is to change `alpha` value and see its impact on model performance. Do you see any noticeable change in model performance with changing `alpha` value. Write your analysis in the cell provided. "
   ]
  },
  {
   "cell_type": "code",
   "execution_count": null,
   "metadata": {},
   "outputs": [],
   "source": [
    "#tune the model hyperparameter alpha (See lecture notes)\n",
    "\n",
    "from sklearn.linear_model import Ridge\n",
    "\n",
    "ridge10 = Ridge(alpha=10).fit(X_train, y_train)\n",
    "print(\"Training set score: {:.2f}\".format(ridge10.score(X_train, y_train)))\n",
    "print(\"Test set score: {:.2f}\".format(ridge10.score(X_test, y_test)))"
   ]
  },
  {
   "cell_type": "markdown",
   "metadata": {},
   "source": [
    "### Write your summary below"
   ]
  },
  {
   "cell_type": "raw",
   "metadata": {},
   "source": [
    "T = [[-1, 1], [6, 2], [3, 3],[3, 4], [1, 3], [9, '?']]\n"
   ]
  },
  {
   "cell_type": "code",
   "execution_count": null,
   "metadata": {},
   "outputs": [],
   "source": [
    "T = [[-1, 1], [6, 2], [3, 3],[3, 4], [1, 3], [9, '?']]\n",
    "T"
   ]
  },
  {
   "cell_type": "code",
   "execution_count": null,
   "metadata": {},
   "outputs": [],
   "source": [
    "len(T)"
   ]
  },
  {
   "cell_type": "code",
   "execution_count": null,
   "metadata": {},
   "outputs": [],
   "source": [
    "T = [[-1, 6, 3, 3, 1, 9],[1, 2, 3, 4, 4, '?']]"
   ]
  },
  {
   "cell_type": "code",
   "execution_count": null,
   "metadata": {},
   "outputs": [],
   "source": [
    "T"
   ]
  },
  {
   "cell_type": "code",
   "execution_count": null,
   "metadata": {},
   "outputs": [],
   "source": [
    "T[0]"
   ]
  },
  {
   "cell_type": "code",
   "execution_count": null,
   "metadata": {},
   "outputs": [],
   "source": [
    "T[1]"
   ]
  },
  {
   "cell_type": "code",
   "execution_count": null,
   "metadata": {},
   "outputs": [],
   "source": [
    "def averageOfList(num):\n",
    "    sumOfNumbers = 0\n",
    "    for t in num:\n",
    "        sumOfNumbers = sumOfNumbers + t\n",
    "\n",
    "    avg = sumOfNumbers / len(num)\n",
    "    return avg\n",
    "\n",
    "\n",
    "print(\"The average of List is\", averageOfList(T[1]))"
   ]
  },
  {
   "cell_type": "code",
   "execution_count": null,
   "metadata": {},
   "outputs": [],
   "source": [
    "T[1]"
   ]
  },
  {
   "cell_type": "code",
   "execution_count": null,
   "metadata": {},
   "outputs": [],
   "source": [
    "print(\"The average of List is\", averageOfList(T[1][:-1]))"
   ]
  },
  {
   "cell_type": "code",
   "execution_count": null,
   "metadata": {},
   "outputs": [],
   "source": [
    "import statistics as st"
   ]
  },
  {
   "cell_type": "code",
   "execution_count": null,
   "metadata": {},
   "outputs": [],
   "source": [
    "st.median(T[0])"
   ]
  },
  {
   "cell_type": "code",
   "execution_count": null,
   "metadata": {},
   "outputs": [],
   "source": [
    "st.mode(T[0])"
   ]
  },
  {
   "cell_type": "code",
   "execution_count": null,
   "metadata": {},
   "outputs": [],
   "source": [
    "st.mean(T[0])"
   ]
  },
  {
   "cell_type": "code",
   "execution_count": null,
   "metadata": {},
   "outputs": [],
   "source": [
    "st.mean(T[1][:-1])"
   ]
  },
  {
   "cell_type": "code",
   "execution_count": null,
   "metadata": {},
   "outputs": [],
   "source": [
    "from sklearn.preprocessing import normalize\n",
    "\n",
    "X = [[1, -1, 2], [2, 0, 0], [0, 1, -1]]"
   ]
  },
  {
   "cell_type": "code",
   "execution_count": null,
   "metadata": {},
   "outputs": [],
   "source": [
    "l2_norm = normalize(X, norm='l2')\n",
    "l2_norm"
   ]
  },
  {
   "cell_type": "code",
   "execution_count": null,
   "metadata": {},
   "outputs": [],
   "source": [
    "l1_norm = normalize(X, norm='l1')\n",
    "l1_norm"
   ]
  },
  {
   "cell_type": "code",
   "execution_count": null,
   "metadata": {},
   "outputs": [],
   "source": [
    "l2_norm[0]"
   ]
  },
  {
   "cell_type": "code",
   "execution_count": null,
   "metadata": {},
   "outputs": [],
   "source": [
    "l2_norm[0][0]"
   ]
  },
  {
   "cell_type": "code",
   "execution_count": null,
   "metadata": {},
   "outputs": [],
   "source": [
    "l2_norm[0][1]"
   ]
  },
  {
   "cell_type": "code",
   "execution_count": null,
   "metadata": {},
   "outputs": [],
   "source": [
    "l2_norm[0][2]"
   ]
  },
  {
   "cell_type": "code",
   "execution_count": null,
   "metadata": {},
   "outputs": [],
   "source": [
    "import math\n",
    "\n",
    "math.sqrt(l2_norm[0][0]*l2_norm[0][0] + l2_norm[0][1] * l2_norm[0][1] + l2_norm[0][2] * l2_norm[0][2])"
   ]
  }
 ],
 "metadata": {
  "kernelspec": {
   "display_name": "Python 3",
   "language": "python",
   "name": "python3"
  },
  "language_info": {
   "codemirror_mode": {
    "name": "ipython",
    "version": 3
   },
   "file_extension": ".py",
   "mimetype": "text/x-python",
   "name": "python",
   "nbconvert_exporter": "python",
   "pygments_lexer": "ipython3",
   "version": "3.8.5"
  }
 },
 "nbformat": 4,
 "nbformat_minor": 2
}
